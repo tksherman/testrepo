{
    "cells": [
        {
            "cell_type": "markdown",
            "metadata": {
                "collapsed": true
            },
            "source": "# My Jupyter Notebook on IBM Watson Studio"
        },
        {
            "cell_type": "markdown",
            "metadata": {},
            "source": "Name: **Tammara** **Sherman**\n    \nDesired Occupation: Data Scientist"
        },
        {
            "cell_type": "markdown",
            "metadata": {},
            "source": "*I am interested in Data Science because I love working with data to discover new insights.*"
        },
        {
            "cell_type": "markdown",
            "metadata": {},
            "source": "### My code prints the result of adding two numbers."
        },
        {
            "cell_type": "code",
            "execution_count": 2,
            "metadata": {},
            "outputs": [
                {
                    "name": "stdout",
                    "output_type": "stream",
                    "text": "6\n"
                }
            ],
            "source": "print(3+3)"
        },
        {
            "cell_type": "markdown",
            "metadata": {},
            "source": "---\n* Item 1\n* Item 2\n* Item 3\n|Number | First | Last |\n|------:|-------|------|\n|1      |Ida    |Know  |\n|2      |Sugar  |Honey |"
        },
        {
            "cell_type": "code",
            "execution_count": null,
            "metadata": {},
            "outputs": [],
            "source": ""
        }
    ],
    "metadata": {
        "kernelspec": {
            "display_name": "Python 3.7",
            "language": "python",
            "name": "python3"
        },
        "language_info": {
            "codemirror_mode": {
                "name": "ipython",
                "version": 3
            },
            "file_extension": ".py",
            "mimetype": "text/x-python",
            "name": "python",
            "nbconvert_exporter": "python",
            "pygments_lexer": "ipython3",
            "version": "3.7.10"
        }
    },
    "nbformat": 4,
    "nbformat_minor": 1
}